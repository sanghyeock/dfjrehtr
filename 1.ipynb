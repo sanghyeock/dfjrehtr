{
  "nbformat": 4,
  "nbformat_minor": 0,
  "metadata": {
    "colab": {
      "provenance": [],
      "gpuType": "V100"
    },
    "kernelspec": {
      "name": "python3",
      "display_name": "Python 3"
    },
    "language_info": {
      "name": "python"
    },
    "accelerator": "GPU"
  },
  "cells": [
    {
      "cell_type": "markdown",
      "source": [
        "# **저시력자를 위한 원화 화폐 분류**\n",
        "---\n",
        "- 본 과제는 UltraLytics YOLO v5 모델 사용을 권장합니다.\n",
        "    - 본 파일의 목차는 UltraLytics YOLO v5에 맞게 작성되어 있습니다.\n",
        "    - 다른 모델을 찾아서 사용하셔도 좋습니다.\n",
        "    - 산출물이 잘 나오면 됩니다 : )\n",
        "---"
      ],
      "metadata": {
        "id": "XT7PRhnMf-kI"
      }
    },
    {
      "cell_type": "markdown",
      "source": [
        "## 0.미션\n",
        "---\n",
        "- **과제 수행 목표**\n",
        "    - 본 과제는 Object Detection 문제입니다.\n",
        "    - Object Detection 문제로 접근하기 위해 **데이터셋 전처리**를 하셔야 합니다.\n",
        "    - 데이터셋 : money_dataset.zip\n",
        "        1. 데이터셋은 압축 파일로 제공됩니다.\n",
        "        2. 압축 파일 안에는 화폐마다 폴더가 개별적으로 존재합니다.\n",
        "        3. 폴더 안에는 화폐 이미지와 화폐 정보가 담긴 json 파일이 있습니다.\n",
        "    - 여러분이 직접 촬영한 화폐 사진들을 탐지 과정에서 이용 해보세요.\n",
        "    - 이미지에 화폐 하나만 나오게 촬영하는 것은 지양해주세요.\n",
        "    - 다양한 방법으로 화폐를 촬영하고 결과를 확인해보세요.\n",
        "        - ex 1) 화폐의 모든 종류를 한 이미지에 나오게 촬영\n",
        "        - ex 2) 여러 화폐를 겹치게 하여 촬영\n",
        "---\n",
        "- **Key Point**\n",
        "    1. 모델에 맞는 폴더 구조 확인\n",
        "    2. 이미지 축소 비율에 맞춰 좌표값 변경\n",
        "        - 좌표를 이미지 리사이즈한 비율로 변경\n",
        "    3. 모델에 맞는 정보 추출/형식 변경\n",
        "        - json 파일에서 정보 추출 및 모델 형식에 맞게 변경\n",
        "    4. 화폐당 하나의 클래스로 변경\n",
        "        - 총 8개 클래스\n",
        "    5. 모델 선택 필요\n",
        "---"
      ],
      "metadata": {
        "id": "47D2vGDYdCOz"
      }
    },
    {
      "cell_type": "markdown",
      "source": [
        "## 1.환경설정"
      ],
      "metadata": {
        "id": "aZon1K-Ag9be"
      }
    },
    {
      "cell_type": "markdown",
      "source": [
        "### (1) 구글 드라이브 연동, 데이터 다운로드\n",
        "---\n",
        "- 아래의 코드 셀을 반드시 실행시켜야 합니다.\n",
        "---"
      ],
      "metadata": {
        "id": "CMgnHN9ZBF05"
      }
    },
    {
      "cell_type": "code",
      "source": [
        "from google.colab import drive\n",
        "drive.mount('/content/drive/')"
      ],
      "metadata": {
        "id": "xCplyiojBFwh",
        "colab": {
          "base_uri": "https://localhost:8080/"
        },
        "outputId": "ade7e4c2-475e-4155-edf6-8b557d599e47"
      },
      "execution_count": 1,
      "outputs": [
        {
          "output_type": "stream",
          "name": "stdout",
          "text": [
            "Mounted at /content/drive/\n"
          ]
        }
      ]
    },
    {
      "cell_type": "code",
      "source": [
        "!pip install gdown"
      ],
      "metadata": {
        "colab": {
          "base_uri": "https://localhost:8080/"
        },
        "id": "5sUNGwmDxAda",
        "outputId": "c3be15d3-e021-46c8-edad-d8c0f86ff3fd"
      },
      "execution_count": 2,
      "outputs": [
        {
          "output_type": "stream",
          "name": "stdout",
          "text": [
            "Requirement already satisfied: gdown in /usr/local/lib/python3.10/dist-packages (4.6.6)\n",
            "Requirement already satisfied: filelock in /usr/local/lib/python3.10/dist-packages (from gdown) (3.12.2)\n",
            "Requirement already satisfied: requests[socks] in /usr/local/lib/python3.10/dist-packages (from gdown) (2.31.0)\n",
            "Requirement already satisfied: six in /usr/local/lib/python3.10/dist-packages (from gdown) (1.16.0)\n",
            "Requirement already satisfied: tqdm in /usr/local/lib/python3.10/dist-packages (from gdown) (4.66.1)\n",
            "Requirement already satisfied: beautifulsoup4 in /usr/local/lib/python3.10/dist-packages (from gdown) (4.11.2)\n",
            "Requirement already satisfied: soupsieve>1.2 in /usr/local/lib/python3.10/dist-packages (from beautifulsoup4->gdown) (2.5)\n",
            "Requirement already satisfied: charset-normalizer<4,>=2 in /usr/local/lib/python3.10/dist-packages (from requests[socks]->gdown) (3.2.0)\n",
            "Requirement already satisfied: idna<4,>=2.5 in /usr/local/lib/python3.10/dist-packages (from requests[socks]->gdown) (3.4)\n",
            "Requirement already satisfied: urllib3<3,>=1.21.1 in /usr/local/lib/python3.10/dist-packages (from requests[socks]->gdown) (2.0.4)\n",
            "Requirement already satisfied: certifi>=2017.4.17 in /usr/local/lib/python3.10/dist-packages (from requests[socks]->gdown) (2023.7.22)\n",
            "Requirement already satisfied: PySocks!=1.5.7,>=1.5.6 in /usr/local/lib/python3.10/dist-packages (from requests[socks]->gdown) (1.7.1)\n"
          ]
        }
      ]
    },
    {
      "cell_type": "markdown",
      "source": [
        "### (2) 데이터셋 불러오기\n",
        "---\n",
        "- **세부요구사항**\n",
        "    - 데이터셋 파일의 압축을 해제하세요.\n",
        "---\n",
        "- 예제 코드에서는 zipfile 모듈을 이용하였습니다.\n",
        "    - [zipfile document](https://docs.python.org/3/library/zipfile.html#zipfile-objects)\n",
        "    - 해당 모듈 이외에 자신이 잘 알고 있는 방법을 사용해도 됩니다.\n",
        "---"
      ],
      "metadata": {
        "id": "J8vjv0acBAV4"
      }
    },
    {
      "cell_type": "code",
      "execution_count": 3,
      "metadata": {
        "id": "bkSa5ejf8LMe"
      },
      "outputs": [],
      "source": [
        "import zipfile, gdown,os\n",
        "url =\"https://drive.google.com/file/d/1k1tXDK35s6BsMTPGWSl5GVGNoPfC898X/view?usp=drive_link\"\n",
        "file_name = \"money_dataset.zip\"\n",
        "output = \"/content/drive/MyDrive/\" + file_name # 변경 가능\n",
        "if not os.path.exists(output):\n",
        "    gdown.download(url=url, output=output, quiet=False, fuzzy=True)"
      ]
    },
    {
      "cell_type": "code",
      "source": [
        "# 데이터셋 압축 파일 경로 : 유저별로 상이할 수 있음\n",
        "money_data = zipfile.ZipFile(output)"
      ],
      "metadata": {
        "id": "N4cdpkRv86QQ"
      },
      "execution_count": 4,
      "outputs": []
    },
    {
      "cell_type": "code",
      "source": [
        "# 데이터셋 압축 해제\n",
        "money_data.extractall('/content/Dataset/')"
      ],
      "metadata": {
        "id": "TDAyDRLT9hZS"
      },
      "execution_count": 5,
      "outputs": []
    },
    {
      "cell_type": "markdown",
      "source": [
        "## 2.데이터 전처리"
      ],
      "metadata": {
        "id": "QyEd-WNIhoSc"
      }
    },
    {
      "cell_type": "markdown",
      "source": [
        "### (1) 폴더 구조 생성 및 파일 이동\n",
        "---\n",
        "- **세부요구사항**\n",
        "    -  모델에서 요구하는 폴더 구조를 만들어야 합니다.\n",
        "        - Hint : Image와 Label을 구분하는 폴더를 만들어 주세요\n",
        "---\n",
        "- 예제 코드에서는 glob, shutil 모듈을 이용하였습니다.\n",
        "    - [glob document](https://docs.python.org/3/library/glob.html) | [shutil document](https://docs.python.org/3/library/shutil.html)\n",
        "    - 해당 모듈 이외에 자신이 잘 알고 있는 방법을 사용해도 됩니다.\n",
        "---"
      ],
      "metadata": {
        "id": "P81d6utx-3LY"
      }
    },
    {
      "cell_type": "code",
      "source": [
        "# 1.폴더 구조 만들기\n",
        "!mkdir /content/Dataset/images;\n",
        "!mkdir /content/Dataset/images/train; mkdir /content/Dataset/images/val\n",
        "\n",
        "!mkdir /content/Dataset/labels;\n",
        "!mkdir /content/Dataset/labels/train; mkdir /content/Dataset/labels/val"
      ],
      "metadata": {
        "id": "YBqCJU5z_UI8"
      },
      "execution_count": 6,
      "outputs": []
    },
    {
      "cell_type": "code",
      "source": [
        "import glob, shutil"
      ],
      "metadata": {
        "id": "UuchlNA_DftJ"
      },
      "execution_count": 7,
      "outputs": []
    },
    {
      "cell_type": "code",
      "source": [
        "# 2. Dataset metadata 입력\n",
        "won_list = ['10', '50', '100', '500', '1000', '5000', '10000', '50000']\n",
        "data_path = '/content/Dataset/'"
      ],
      "metadata": {
        "id": "Q3lnYcLS_UOy"
      },
      "execution_count": 8,
      "outputs": []
    },
    {
      "cell_type": "markdown",
      "source": [
        "---\n",
        "- 데이터를 Training set | Validation set으로 분할하세요.\n",
        "    - 예시 : Training과 Validation은 8:2로 분리\n",
        "- Hint : 이미지 데이터는 /images에, JSON 데이터는 /labels에 넣어주세요\n",
        "    - 예시 : /dataset/images/train, /dataset/labels/train\n",
        "    - 예제 코드에서는 glob, shutil 모듈을 이용하였습니다.\n",
        "    - [glob document](https://docs.python.org/3/library/glob.html) | [shutil document](https://docs.python.org/3/library/shutil.html)\n",
        "\n",
        "    ※ 해당 모듈 이외에 자신이 잘 알고 있는 방법을 사용해도 됩니다.\n",
        "    \n",
        "---"
      ],
      "metadata": {
        "id": "ihJgeqXJG1Ml"
      }
    },
    {
      "cell_type": "code",
      "source": [
        "########################\n",
        "# 이 셀부터 코드 작성하세요\n",
        "########################\n",
        "# 3. 데이터를 Training set | Validation set으로 분할하세요.\n"
      ],
      "metadata": {
        "id": "1qfGCSqy_kL0"
      },
      "execution_count": null,
      "outputs": []
    },
    {
      "cell_type": "code",
      "source": [
        "import os\n",
        "from sklearn.model_selection import train_test_split\n",
        "\n",
        "# image_file과 json_file명 list에 저장\n",
        "image_files = [[]]*len(won_list)\n",
        "\n",
        "images = [[]]*len(won_list)\n",
        "for x in range(len(won_list)):\n",
        "  image_files[x] = glob.glob(data_path+won_list[x]+\"/*.jpg\")\n"
      ],
      "metadata": {
        "id": "g-5i2oTYYZxT"
      },
      "execution_count": 9,
      "outputs": []
    },
    {
      "cell_type": "code",
      "source": [
        "# 이미지와 json 확장자를 임시로 제거 ()\n",
        "for x in range(len(won_list)):\n",
        "  images[x] = [name.replace(\".jpg\",\"\") for name in image_files[x]]"
      ],
      "metadata": {
        "id": "lA-ErS-hZaJS"
      },
      "execution_count": 10,
      "outputs": []
    },
    {
      "cell_type": "code",
      "source": [
        "# 경로 설정\n",
        "data_path = '/content/Dataset/'\n",
        "train_dir = '/content/Dataset/images/train'\n",
        "test_dir = '/content/Dataset/images/val'"
      ],
      "metadata": {
        "id": "xvtb1S43aXUa"
      },
      "execution_count": 11,
      "outputs": []
    },
    {
      "cell_type": "code",
      "source": [
        "from sklearn.model_selection import train_test_split\n",
        "train_names = [[]]*len(images)\n",
        "test_names = [[]]*len(images)\n",
        "for x in range(len(images)):\n",
        "  train_names[x], test_names[x] = train_test_split(images[x], test_size=0.2, random_state=42)"
      ],
      "metadata": {
        "id": "ou7SDhecbzCb"
      },
      "execution_count": 12,
      "outputs": []
    },
    {
      "cell_type": "code",
      "source": [
        "import os\n",
        "def batch_move_files(file_list, source_path, destination_path):\n",
        "    for file in file_list:\n",
        "        image = file.split('/')[-1] + '.jpg'\n",
        "        txt = file.split('/')[-1] + '.json'\n",
        "        shutil.copy(os.path.join(source_path, image), destination_path)\n",
        "        shutil.copy(os.path.join(source_path, txt), destination_path)\n",
        "    return"
      ],
      "metadata": {
        "id": "QEkRIGSpbK09"
      },
      "execution_count": 13,
      "outputs": []
    },
    {
      "cell_type": "code",
      "source": [
        "for x in range(len(train_names)):\n",
        "  batch_move_files(train_names[x], data_path+won_list[x],train_dir)\n",
        "for x in range(len(test_names)):\n",
        "  batch_move_files(test_names[x], data_path+won_list[x],test_dir)"
      ],
      "metadata": {
        "id": "Wa6t9U_xcBG6"
      },
      "execution_count": 14,
      "outputs": []
    },
    {
      "cell_type": "code",
      "source": [
        "json_train_dir = glob.glob('/content/Dataset/images/train/*.json')\n",
        "json_test_dir = glob.glob('/content/Dataset/images/val/*.json')"
      ],
      "metadata": {
        "id": "e_8x5ArzfRXQ"
      },
      "execution_count": 15,
      "outputs": []
    },
    {
      "cell_type": "code",
      "source": [
        "shutil.rmtree('/content/Dataset/labels/train/')\n",
        "shutil.rmtree('/content/Dataset/labels/val/')"
      ],
      "metadata": {
        "id": "zSVyopEDg8Jx"
      },
      "execution_count": 198,
      "outputs": []
    },
    {
      "cell_type": "code",
      "source": [
        "#shutil.rmtree('/content/yolov5/runs/val')"
      ],
      "metadata": {
        "id": "zE1KFSCeJFBW"
      },
      "execution_count": 220,
      "outputs": []
    },
    {
      "cell_type": "code",
      "source": [
        "# 1.폴더 구조 만들기\n",
        "!mkdir /content/Dataset/images;\n",
        "!mkdir /content/Dataset/images/train; mkdir /content/Dataset/images/val\n",
        "\n",
        "!mkdir /content/Dataset/labels;\n",
        "!mkdir /content/Dataset/labels/train; mkdir /content/Dataset/labels/val"
      ],
      "metadata": {
        "colab": {
          "base_uri": "https://localhost:8080/"
        },
        "id": "M3hDdeZqF74j",
        "outputId": "5b4ad6d9-608e-4bb5-fc6e-dced07a323bf"
      },
      "execution_count": 16,
      "outputs": [
        {
          "output_type": "stream",
          "name": "stdout",
          "text": [
            "mkdir: cannot create directory ‘/content/Dataset/images’: File exists\n",
            "mkdir: cannot create directory ‘/content/Dataset/images/train’: File exists\n",
            "mkdir: cannot create directory ‘/content/Dataset/images/val’: File exists\n",
            "mkdir: cannot create directory ‘/content/Dataset/labels’: File exists\n",
            "mkdir: cannot create directory ‘/content/Dataset/labels/train’: File exists\n",
            "mkdir: cannot create directory ‘/content/Dataset/labels/val’: File exists\n"
          ]
        }
      ]
    },
    {
      "cell_type": "code",
      "source": [
        "target_train_dir = '/content/Dataset/labels/train'\n",
        "target_test_dir = '/content/Dataset/labels/val'\n",
        "for x in range(len(json_train_dir)):\n",
        "  shutil.move(json_train_dir[x], target_train_dir)\n",
        "for x in range(len(json_test_dir)):\n",
        "  shutil.move(json_test_dir[x], target_test_dir)"
      ],
      "metadata": {
        "id": "De-ywYZNf46X"
      },
      "execution_count": 17,
      "outputs": []
    },
    {
      "cell_type": "markdown",
      "source": [
        "### (2) json에서 정보 추출\n",
        "---\n",
        "- **세부요구사항**\n",
        "    - json 파일에서 필요한 정보를 추출하세요:\n",
        "        - 위치 정보 : x1, x2, y1, y2\n",
        "        - 박스 정보 : shape_type\n",
        "        - 클래스 정보 : labels\n",
        "    - 화폐당 하나의 클래스로 변경하세요.\n",
        "        - json 파일에는 화폐 클래스가 앞뒷면으로 구분되어 있습니다.\n",
        "        - 화폐의 앞뒷면 구분을 없애주세요.\n",
        "            - 예시 : 'ten_front', 'ten_back' -> 'ten'\n",
        "    - 화폐의 위치 정보를 YOLO 모델 형식에 맞게 변경 해주세요.\n",
        "        - 사용되는 이미지는 원본에서 1/5로 축소되어 있습니다.\n",
        "        - json 파일의 정보는 원본 기준 데이터이므로 위치 정보 추출을 할 때 x값과 y값을 1/5로 줄여주세요.\n",
        "    - 이렇게 변경된 정보를 YOLO label 형식에 맞게 txt파일로 저장 해 주세요.\n",
        "        - Hint : YOLO Labeling Format [label, x-center, y-center, width-norm, height-norm]\n",
        "---"
      ],
      "metadata": {
        "id": "II_hsJ6bKYGn"
      }
    },
    {
      "cell_type": "code",
      "source": [
        "import os, json"
      ],
      "metadata": {
        "id": "MgUoCewjM-Jf"
      },
      "execution_count": 18,
      "outputs": []
    },
    {
      "cell_type": "code",
      "source": [
        "json_path = '/content/Dataset/labels/'\n",
        "temp_list = ['train', 'val']"
      ],
      "metadata": {
        "id": "gBD1Zv9BKaxi"
      },
      "execution_count": 19,
      "outputs": []
    },
    {
      "cell_type": "code",
      "source": [
        "########################\n",
        "# 이 셀부터 코드 작성하세요\n",
        "# Json 파일에서 필요한 정보만 골라 txt로 바꾸는 작업임을 기억하세요!\n",
        "########################\n",
        "\n",
        "with open('/content/Dataset/labels/val/10000_B_DESK_0_105.json') as file:\n",
        "  datas = json.load(file)\n",
        "\n",
        "  json_t = datas['shapes'][0]['points']\n",
        "  print(json_t)"
      ],
      "metadata": {
        "id": "Mzh2Y8doMEK1",
        "colab": {
          "base_uri": "https://localhost:8080/"
        },
        "outputId": "2c2d3664-542e-49f0-c54e-d8226185dc20"
      },
      "execution_count": 20,
      "outputs": [
        {
          "output_type": "stream",
          "name": "stdout",
          "text": [
            "[[68.69872439999999, 535.583088], [1046.0451672, 996.1148316]]\n"
          ]
        }
      ]
    },
    {
      "cell_type": "code",
      "source": [
        "\n",
        "input_dir = \"/content/Dataset/labels/val\"\n",
        "output_dir = \"/content/Dataset/labels/val\"\n",
        "label_mapping = {\n",
        "    #10\n",
        "    'Ten_back': '0',\n",
        "    'Ten_front' : '0',\n",
        "    #50\n",
        "    'Fifty_back': '1',\n",
        "    'Fifty_front' : '1',\n",
        "    #100\n",
        "    'Hundred_back': '2',\n",
        "    'Hundred_front' : '2',\n",
        "    #500\n",
        "    'Five_Hundred_back': '3',\n",
        "    'Five_Hundred_front' : '3',\n",
        "    #1000\n",
        "    'Thousand_back': '4',\n",
        "    'Thousand_front' : '4',\n",
        "    #5000\n",
        "    'Five_Thousand_back': '5',\n",
        "    'Five_Thousand_front' : '5',\n",
        "    #10000\n",
        "    \"Ten_Thousand_back\": \"6\",\n",
        "    'Ten_Thousand_front' : '6',\n",
        "    #50000\n",
        "    \"Fifty_Thousand_back\": \"7\",\n",
        "    'Fifty_Thousand_front' : '7',\n",
        "}"
      ],
      "metadata": {
        "id": "vx8a24l0kiDt"
      },
      "execution_count": 22,
      "outputs": []
    },
    {
      "cell_type": "code",
      "source": [
        "for filename in os.listdir(input_dir):\n",
        "    if filename.endswith(\".json\"):\n",
        "        # JSON 파일 읽기\n",
        "        json_file_path = os.path.join(input_dir, filename)\n",
        "        with open(json_file_path, \"r\") as json_file:\n",
        "            data = json.load(json_file)\n",
        "            image_width = data[\"imageWidth\"] / 5\n",
        "            image_height = data[\"imageHeight\"] / 5\n",
        "            shapes = data[\"shapes\"]\n",
        "\n",
        "            # 결과를 저장할 리스트 초기화\n",
        "            results = []\n",
        "\n",
        "            for shape in shapes:\n",
        "                # 위치 정보 추출 및 1/5 크기로 조정\n",
        "                points = shape[\"points\"]\n",
        "                x1, y1 = points[0]\n",
        "                x2, y2 = points[1]\n",
        "                x1 /= 5\n",
        "                y1 /= 5\n",
        "                x2 /= 5\n",
        "                y2 /= 5\n",
        "\n",
        "                # 박스 정보 추출\n",
        "                shape_type = shape[\"shape_type\"]\n",
        "\n",
        "                # 클래스 정보 추출 및 매핑\n",
        "                original_label = shape[\"label\"]\n",
        "                mapped_label = label_mapping.get(original_label, original_label)\n",
        "\n",
        "                # YOLO 형식에 맞게 변환\n",
        "                x_center = (x1 + x2) / 2 / image_width\n",
        "                y_center = (y1 + y2) / 2 / image_height\n",
        "                width_norm = (x2 - x1) / image_width\n",
        "                height_norm = (y2 - y1) / image_height\n",
        "\n",
        "                # YOLO 형식으로 변환된 정보를 리스트에 추가\n",
        "                results.append([mapped_label, x_center, y_center, width_norm, height_norm])\n",
        "\n",
        "        # 결과를 TXT 파일로 저장\n",
        "        output_txt_file_path = os.path.join(output_dir, filename.replace(\".json\", \".txt\"))\n",
        "        with open(output_txt_file_path, \"w\") as output_txt_file:\n",
        "            for result in results:\n",
        "                line = \" \".join(str(x) for x in result)\n",
        "                output_txt_file.write(line + \"\\n\")"
      ],
      "metadata": {
        "id": "v_S7u51Wqdc-"
      },
      "execution_count": 23,
      "outputs": []
    },
    {
      "cell_type": "markdown",
      "metadata": {
        "id": "tOQeEhApesWR"
      },
      "source": [
        "### (3) 데이터셋 정보가 담긴 파일 생성\n",
        "---\n",
        "- **세부요구사항**\n",
        "    - 파일 안에 있어야 할 정보는 아래와 같습니다.\n",
        "        - 학습할 클래스 이름 정보\n",
        "        - 학습할 클래스 수 정보\n",
        "        - Training, Validation 데이터셋 위치 정보\n",
        "---\n",
        "- 가장 대중적으로 이용하는 라이브러리는 yaml 입니다.\n",
        "    - [yaml document](https://pyyaml.org/wiki/PyYAMLDocumentation)\n",
        "    - 해당 모듈 이외에 자신이 잘 알고 있는 방법을 사용해도 됩니다.\n",
        "---"
      ]
    },
    {
      "cell_type": "code",
      "execution_count": 24,
      "metadata": {
        "id": "pu1iQfQolBhJ"
      },
      "outputs": [],
      "source": [
        "import yaml"
      ]
    },
    {
      "cell_type": "code",
      "source": [
        "won_dict = {0:'10', 1:'50', 2:'100', 3:'500', 4:'1000', 5:'5000', 6:'10000', 7:'50000'}\n",
        "t_dic = ['10', '50','100', '500','1000','5000', '10000','50000']"
      ],
      "metadata": {
        "id": "t1_uOeXcSvv3"
      },
      "execution_count": 25,
      "outputs": []
    },
    {
      "cell_type": "code",
      "execution_count": 25,
      "metadata": {
        "id": "qvMQcHirmSnD",
        "colab": {
          "base_uri": "https://localhost:8080/",
          "height": 255
        },
        "outputId": "a60e245e-ec5e-4597-8f5f-0e420a43328e"
      },
      "outputs": [
        {
          "output_type": "error",
          "ename": "FileNotFoundError",
          "evalue": "ignored",
          "traceback": [
            "\u001b[0;31m---------------------------------------------------------------------------\u001b[0m",
            "\u001b[0;31mFileNotFoundError\u001b[0m                         Traceback (most recent call last)",
            "\u001b[0;32m<ipython-input-25-02e64fe04e9d>\u001b[0m in \u001b[0;36m<cell line: 5>\u001b[0;34m()\u001b[0m\n\u001b[1;32m      3\u001b[0m \u001b[0;31m########################\u001b[0m\u001b[0;34m\u001b[0m\u001b[0;34m\u001b[0m\u001b[0m\n\u001b[1;32m      4\u001b[0m \u001b[0;34m\u001b[0m\u001b[0m\n\u001b[0;32m----> 5\u001b[0;31m \u001b[0;32mwith\u001b[0m \u001b[0mopen\u001b[0m\u001b[0;34m(\u001b[0m\u001b[0;34m'/content/Dataset/data.yaml'\u001b[0m\u001b[0;34m,\u001b[0m \u001b[0;34m'r'\u001b[0m\u001b[0;34m)\u001b[0m \u001b[0;32mas\u001b[0m \u001b[0mf\u001b[0m \u001b[0;34m:\u001b[0m\u001b[0;34m\u001b[0m\u001b[0;34m\u001b[0m\u001b[0m\n\u001b[0m\u001b[1;32m      6\u001b[0m   \u001b[0myaml_data\u001b[0m \u001b[0;34m=\u001b[0m \u001b[0myaml\u001b[0m\u001b[0;34m.\u001b[0m\u001b[0mload\u001b[0m\u001b[0;34m(\u001b[0m\u001b[0mf\u001b[0m\u001b[0;34m,\u001b[0m \u001b[0mLoader\u001b[0m\u001b[0;34m=\u001b[0m\u001b[0myaml\u001b[0m\u001b[0;34m.\u001b[0m\u001b[0mFullLoader\u001b[0m\u001b[0;34m)\u001b[0m\u001b[0;34m\u001b[0m\u001b[0;34m\u001b[0m\u001b[0m\n\u001b[1;32m      7\u001b[0m   \u001b[0mdisplay\u001b[0m\u001b[0;34m(\u001b[0m\u001b[0myaml_data\u001b[0m\u001b[0;34m)\u001b[0m\u001b[0;34m\u001b[0m\u001b[0;34m\u001b[0m\u001b[0m\n",
            "\u001b[0;31mFileNotFoundError\u001b[0m: [Errno 2] No such file or directory: '/content/Dataset/data.yaml'"
          ]
        }
      ],
      "source": [
        "########################\n",
        "# 이 셀부터 코드 작성하세요\n",
        "########################\n",
        "\n",
        "with open('/content/Dataset/data.yaml', 'r') as f :\n",
        "  yaml_data = yaml.load(f, Loader=yaml.FullLoader)\n",
        "  display(yaml_data)\n"
      ]
    },
    {
      "cell_type": "code",
      "source": [
        "num_classes = len(won_dict)\n",
        "training_dataset_path = \"/content/Dataset/images/train\"\n",
        "validation_dataset_path = \"/content/Dataset/images/val\"\n",
        "\n",
        "yaml_data = {\n",
        "    \"names\": won_dict,\n",
        "    \"nc\": num_classes,\n",
        "    \"train\": training_dataset_path,\n",
        "    \"val\": validation_dataset_path\n",
        "}\n",
        "\n",
        "# YAML 파일로 데이터 저장\n",
        "output_yaml_file_path = \"/content/Dataset/data.yaml\"\n",
        "\n",
        "with open(output_yaml_file_path, \"w\") as output_yaml_file:\n",
        "    yaml.dump(yaml_data, output_yaml_file)"
      ],
      "metadata": {
        "id": "uIK7BHLJrOSD"
      },
      "execution_count": 26,
      "outputs": []
    },
    {
      "cell_type": "code",
      "source": [
        "import os\n",
        "\n",
        "def count_empty_txt_files(directory):\n",
        "    empty_txt_count = 0  # 빈 txt 파일 개수를 저장할 변수 초기화\n",
        "\n",
        "    # 주어진 디렉토리 내의 모든 파일 및 하위 디렉토리 검색\n",
        "    for root, dirs, files in os.walk(directory):\n",
        "        for filename in files:\n",
        "            # 파일 확장자가 \".txt\"인지 확인\n",
        "            if filename.endswith(\".txt\"):\n",
        "                file_path = os.path.join(root, filename)\n",
        "                # 파일의 크기가 0바이트인 경우 (빈 파일)\n",
        "                if os.path.getsize(file_path) == 0:\n",
        "                    empty_txt_count += 1\n",
        "\n",
        "    return empty_txt_count\n",
        "\n",
        "# 디렉토리 경로 설정 (원하는 디렉토리 경로로 변경)\n",
        "directory_path = \"/content/Dataset/labels/val\"\n",
        "\n",
        "# 빈 txt 파일 개수 계산\n",
        "count = count_empty_txt_files(directory_path)\n",
        "\n",
        "# 결과 출력\n",
        "print(f\"빈 txt 파일 개수: {count}\")"
      ],
      "metadata": {
        "colab": {
          "base_uri": "https://localhost:8080/"
        },
        "id": "irRRLu8OQ8Sz",
        "outputId": "bf7e6ac3-25f0-4935-dd59-67a1992e2d3f"
      },
      "execution_count": 27,
      "outputs": [
        {
          "output_type": "stream",
          "name": "stdout",
          "text": [
            "빈 txt 파일 개수: 0\n"
          ]
        }
      ]
    },
    {
      "cell_type": "markdown",
      "source": [
        "## 3.모델링"
      ],
      "metadata": {
        "id": "3btFvySXi2dt"
      }
    },
    {
      "cell_type": "markdown",
      "metadata": {
        "id": "0pQ2gRbTYgLL"
      },
      "source": [
        "### (1) 모델 라이브러리 설치\n",
        "---"
      ]
    },
    {
      "cell_type": "code",
      "source": [
        "!git clone https://github.com/ultralytics/yolov5  # clone\n",
        "\n",
        "!pip install -r yolov5/requirements.txt  # install"
      ],
      "metadata": {
        "id": "Biyr9AHkMyNf",
        "colab": {
          "base_uri": "https://localhost:8080/"
        },
        "outputId": "7c5648ce-02c4-4823-9310-205a3936670a"
      },
      "execution_count": 28,
      "outputs": [
        {
          "output_type": "stream",
          "name": "stdout",
          "text": [
            "Cloning into 'yolov5'...\n",
            "remote: Enumerating objects: 15994, done.\u001b[K\n",
            "remote: Counting objects: 100% (27/27), done.\u001b[K\n",
            "remote: Compressing objects: 100% (15/15), done.\u001b[K\n",
            "remote: Total 15994 (delta 18), reused 18 (delta 12), pack-reused 15967\u001b[K\n",
            "Receiving objects: 100% (15994/15994), 14.58 MiB | 23.55 MiB/s, done.\n",
            "Resolving deltas: 100% (10984/10984), done.\n",
            "Collecting gitpython>=3.1.30 (from -r yolov5/requirements.txt (line 5))\n",
            "  Downloading GitPython-3.1.36-py3-none-any.whl (189 kB)\n",
            "\u001b[2K     \u001b[90m━━━━━━━━━━━━━━━━━━━━━━━━━━━━━━━━━━━━━━━\u001b[0m \u001b[32m189.5/189.5 kB\u001b[0m \u001b[31m4.3 MB/s\u001b[0m eta \u001b[36m0:00:00\u001b[0m\n",
            "\u001b[?25hRequirement already satisfied: matplotlib>=3.3 in /usr/local/lib/python3.10/dist-packages (from -r yolov5/requirements.txt (line 6)) (3.7.1)\n",
            "Requirement already satisfied: numpy>=1.22.2 in /usr/local/lib/python3.10/dist-packages (from -r yolov5/requirements.txt (line 7)) (1.23.5)\n",
            "Requirement already satisfied: opencv-python>=4.1.1 in /usr/local/lib/python3.10/dist-packages (from -r yolov5/requirements.txt (line 8)) (4.8.0.76)\n",
            "Requirement already satisfied: Pillow>=7.1.2 in /usr/local/lib/python3.10/dist-packages (from -r yolov5/requirements.txt (line 9)) (9.4.0)\n",
            "Requirement already satisfied: psutil in /usr/local/lib/python3.10/dist-packages (from -r yolov5/requirements.txt (line 10)) (5.9.5)\n",
            "Requirement already satisfied: PyYAML>=5.3.1 in /usr/local/lib/python3.10/dist-packages (from -r yolov5/requirements.txt (line 11)) (6.0.1)\n",
            "Requirement already satisfied: requests>=2.23.0 in /usr/local/lib/python3.10/dist-packages (from -r yolov5/requirements.txt (line 12)) (2.31.0)\n",
            "Requirement already satisfied: scipy>=1.4.1 in /usr/local/lib/python3.10/dist-packages (from -r yolov5/requirements.txt (line 13)) (1.11.2)\n",
            "Collecting thop>=0.1.1 (from -r yolov5/requirements.txt (line 14))\n",
            "  Downloading thop-0.1.1.post2209072238-py3-none-any.whl (15 kB)\n",
            "Requirement already satisfied: torch>=1.8.0 in /usr/local/lib/python3.10/dist-packages (from -r yolov5/requirements.txt (line 15)) (2.0.1+cu118)\n",
            "Requirement already satisfied: torchvision>=0.9.0 in /usr/local/lib/python3.10/dist-packages (from -r yolov5/requirements.txt (line 16)) (0.15.2+cu118)\n",
            "Requirement already satisfied: tqdm>=4.64.0 in /usr/local/lib/python3.10/dist-packages (from -r yolov5/requirements.txt (line 17)) (4.66.1)\n",
            "Collecting ultralytics>=8.0.147 (from -r yolov5/requirements.txt (line 18))\n",
            "  Downloading ultralytics-8.0.183-py3-none-any.whl (618 kB)\n",
            "\u001b[2K     \u001b[90m━━━━━━━━━━━━━━━━━━━━━━━━━━━━━━━━━━━━━━\u001b[0m \u001b[32m618.1/618.1 kB\u001b[0m \u001b[31m26.6 MB/s\u001b[0m eta \u001b[36m0:00:00\u001b[0m\n",
            "\u001b[?25hRequirement already satisfied: pandas>=1.1.4 in /usr/local/lib/python3.10/dist-packages (from -r yolov5/requirements.txt (line 27)) (1.5.3)\n",
            "Requirement already satisfied: seaborn>=0.11.0 in /usr/local/lib/python3.10/dist-packages (from -r yolov5/requirements.txt (line 28)) (0.12.2)\n",
            "Requirement already satisfied: setuptools>=65.5.1 in /usr/local/lib/python3.10/dist-packages (from -r yolov5/requirements.txt (line 42)) (67.7.2)\n",
            "Collecting gitdb<5,>=4.0.1 (from gitpython>=3.1.30->-r yolov5/requirements.txt (line 5))\n",
            "  Downloading gitdb-4.0.10-py3-none-any.whl (62 kB)\n",
            "\u001b[2K     \u001b[90m━━━━━━━━━━━━━━━━━━━━━━━━━━━━━━━━━━━━━━━━\u001b[0m \u001b[32m62.7/62.7 kB\u001b[0m \u001b[31m8.1 MB/s\u001b[0m eta \u001b[36m0:00:00\u001b[0m\n",
            "\u001b[?25hRequirement already satisfied: contourpy>=1.0.1 in /usr/local/lib/python3.10/dist-packages (from matplotlib>=3.3->-r yolov5/requirements.txt (line 6)) (1.1.0)\n",
            "Requirement already satisfied: cycler>=0.10 in /usr/local/lib/python3.10/dist-packages (from matplotlib>=3.3->-r yolov5/requirements.txt (line 6)) (0.11.0)\n",
            "Requirement already satisfied: fonttools>=4.22.0 in /usr/local/lib/python3.10/dist-packages (from matplotlib>=3.3->-r yolov5/requirements.txt (line 6)) (4.42.1)\n",
            "Requirement already satisfied: kiwisolver>=1.0.1 in /usr/local/lib/python3.10/dist-packages (from matplotlib>=3.3->-r yolov5/requirements.txt (line 6)) (1.4.5)\n",
            "Requirement already satisfied: packaging>=20.0 in /usr/local/lib/python3.10/dist-packages (from matplotlib>=3.3->-r yolov5/requirements.txt (line 6)) (23.1)\n",
            "Requirement already satisfied: pyparsing>=2.3.1 in /usr/local/lib/python3.10/dist-packages (from matplotlib>=3.3->-r yolov5/requirements.txt (line 6)) (3.1.1)\n",
            "Requirement already satisfied: python-dateutil>=2.7 in /usr/local/lib/python3.10/dist-packages (from matplotlib>=3.3->-r yolov5/requirements.txt (line 6)) (2.8.2)\n",
            "Requirement already satisfied: charset-normalizer<4,>=2 in /usr/local/lib/python3.10/dist-packages (from requests>=2.23.0->-r yolov5/requirements.txt (line 12)) (3.2.0)\n",
            "Requirement already satisfied: idna<4,>=2.5 in /usr/local/lib/python3.10/dist-packages (from requests>=2.23.0->-r yolov5/requirements.txt (line 12)) (3.4)\n",
            "Requirement already satisfied: urllib3<3,>=1.21.1 in /usr/local/lib/python3.10/dist-packages (from requests>=2.23.0->-r yolov5/requirements.txt (line 12)) (2.0.4)\n",
            "Requirement already satisfied: certifi>=2017.4.17 in /usr/local/lib/python3.10/dist-packages (from requests>=2.23.0->-r yolov5/requirements.txt (line 12)) (2023.7.22)\n",
            "Requirement already satisfied: filelock in /usr/local/lib/python3.10/dist-packages (from torch>=1.8.0->-r yolov5/requirements.txt (line 15)) (3.12.2)\n",
            "Requirement already satisfied: typing-extensions in /usr/local/lib/python3.10/dist-packages (from torch>=1.8.0->-r yolov5/requirements.txt (line 15)) (4.5.0)\n",
            "Requirement already satisfied: sympy in /usr/local/lib/python3.10/dist-packages (from torch>=1.8.0->-r yolov5/requirements.txt (line 15)) (1.12)\n",
            "Requirement already satisfied: networkx in /usr/local/lib/python3.10/dist-packages (from torch>=1.8.0->-r yolov5/requirements.txt (line 15)) (3.1)\n",
            "Requirement already satisfied: jinja2 in /usr/local/lib/python3.10/dist-packages (from torch>=1.8.0->-r yolov5/requirements.txt (line 15)) (3.1.2)\n",
            "Requirement already satisfied: triton==2.0.0 in /usr/local/lib/python3.10/dist-packages (from torch>=1.8.0->-r yolov5/requirements.txt (line 15)) (2.0.0)\n",
            "Requirement already satisfied: cmake in /usr/local/lib/python3.10/dist-packages (from triton==2.0.0->torch>=1.8.0->-r yolov5/requirements.txt (line 15)) (3.27.4.1)\n",
            "Requirement already satisfied: lit in /usr/local/lib/python3.10/dist-packages (from triton==2.0.0->torch>=1.8.0->-r yolov5/requirements.txt (line 15)) (16.0.6)\n",
            "Requirement already satisfied: py-cpuinfo in /usr/local/lib/python3.10/dist-packages (from ultralytics>=8.0.147->-r yolov5/requirements.txt (line 18)) (9.0.0)\n",
            "Requirement already satisfied: pytz>=2020.1 in /usr/local/lib/python3.10/dist-packages (from pandas>=1.1.4->-r yolov5/requirements.txt (line 27)) (2023.3.post1)\n",
            "Collecting smmap<6,>=3.0.1 (from gitdb<5,>=4.0.1->gitpython>=3.1.30->-r yolov5/requirements.txt (line 5))\n",
            "  Downloading smmap-5.0.1-py3-none-any.whl (24 kB)\n",
            "Requirement already satisfied: six>=1.5 in /usr/local/lib/python3.10/dist-packages (from python-dateutil>=2.7->matplotlib>=3.3->-r yolov5/requirements.txt (line 6)) (1.16.0)\n",
            "Requirement already satisfied: MarkupSafe>=2.0 in /usr/local/lib/python3.10/dist-packages (from jinja2->torch>=1.8.0->-r yolov5/requirements.txt (line 15)) (2.1.3)\n",
            "Requirement already satisfied: mpmath>=0.19 in /usr/local/lib/python3.10/dist-packages (from sympy->torch>=1.8.0->-r yolov5/requirements.txt (line 15)) (1.3.0)\n",
            "Installing collected packages: smmap, gitdb, gitpython, ultralytics, thop\n",
            "Successfully installed gitdb-4.0.10 gitpython-3.1.36 smmap-5.0.1 thop-0.1.1.post2209072238 ultralytics-8.0.183\n"
          ]
        }
      ]
    },
    {
      "cell_type": "markdown",
      "source": [
        "### (2) 가중치 파일 다운로드\n",
        "---\n",
        "- **세부요구사항**\n",
        "    - 모델 개발자가 제공하는 사전 학습 가중치 파일을 다운로드 하세요.\n",
        "        - 해당 과정이 불필요하다면 넘어가셔도 됩니다!\n",
        "---"
      ],
      "metadata": {
        "id": "_mHMAspjR6Xp"
      }
    },
    {
      "cell_type": "code",
      "source": [
        "!chmod +w /content/Dataset/labels/\n",
        "!chmod +w /content/Dataset/"
      ],
      "metadata": {
        "id": "eZkHxI5GHlvw"
      },
      "execution_count": 29,
      "outputs": []
    },
    {
      "cell_type": "markdown",
      "metadata": {
        "id": "W8-5lC4mfbwT"
      },
      "source": [
        "### (3) 학습 : train.py\n",
        "---\n",
        "- **세부요구사항**\n",
        "    - UltraLytics YOLO v5에는 아래의 데이터가 필요합니다.\n",
        "        - 데이터셋 정보가 담긴 yaml 파일\n",
        "        - 사용하려는 모델 구조에 대한 yaml 파일\n",
        "        - 사용하려는 모델의 가중치 파일\n",
        "---"
      ]
    },
    {
      "cell_type": "code",
      "execution_count": 34,
      "metadata": {
        "id": "4AYFDMaVfmTK",
        "colab": {
          "base_uri": "https://localhost:8080/"
        },
        "outputId": "9a07df47-9249-4c95-926b-12d6f223f503"
      },
      "outputs": [
        {
          "output_type": "stream",
          "name": "stdout",
          "text": [
            "/content/yolov5\n",
            "\u001b[34m\u001b[1mtrain: \u001b[0mweights=yolov5s.pt, cfg=./models/yolov5s.yaml, data=/content/Dataset/data.yaml, hyp=data/hyps/hyp.scratch-low.yaml, epochs=7, batch_size=16, imgsz=640, rect=False, resume=False, nosave=False, noval=False, noautoanchor=False, noplots=False, evolve=None, bucket=, cache=None, image_weights=False, device=, multi_scale=False, single_cls=False, optimizer=SGD, sync_bn=False, workers=8, project=runs/train, name=yolov5s_results, exist_ok=False, quad=False, cos_lr=False, label_smoothing=0.0, patience=100, freeze=[0], save_period=-1, seed=0, local_rank=-1, entity=None, upload_dataset=False, bbox_interval=-1, artifact_alias=latest\n",
            "\u001b[34m\u001b[1mgithub: \u001b[0mup to date with https://github.com/ultralytics/yolov5 ✅\n",
            "YOLOv5 🚀 v7.0-224-g6262c7f Python-3.10.12 torch-2.0.1+cu118 CUDA:0 (Tesla V100-SXM2-16GB, 16151MiB)\n",
            "\n",
            "\u001b[34m\u001b[1mhyperparameters: \u001b[0mlr0=0.01, lrf=0.01, momentum=0.937, weight_decay=0.0005, warmup_epochs=3.0, warmup_momentum=0.8, warmup_bias_lr=0.1, box=0.05, cls=0.5, cls_pw=1.0, obj=1.0, obj_pw=1.0, iou_t=0.2, anchor_t=4.0, fl_gamma=0.0, hsv_h=0.015, hsv_s=0.7, hsv_v=0.4, degrees=0.0, translate=0.1, scale=0.5, shear=0.0, perspective=0.0, flipud=0.0, fliplr=0.5, mosaic=1.0, mixup=0.0, copy_paste=0.0\n",
            "\u001b[34m\u001b[1mComet: \u001b[0mrun 'pip install comet_ml' to automatically track and visualize YOLOv5 🚀 runs in Comet\n",
            "\u001b[34m\u001b[1mTensorBoard: \u001b[0mStart with 'tensorboard --logdir runs/train', view at http://localhost:6006/\n",
            "Overriding model.yaml nc=80 with nc=8\n",
            "\n",
            "                 from  n    params  module                                  arguments                     \n",
            "  0                -1  1      3520  models.common.Conv                      [3, 32, 6, 2, 2]              \n",
            "  1                -1  1     18560  models.common.Conv                      [32, 64, 3, 2]                \n",
            "  2                -1  1     18816  models.common.C3                        [64, 64, 1]                   \n",
            "  3                -1  1     73984  models.common.Conv                      [64, 128, 3, 2]               \n",
            "  4                -1  2    115712  models.common.C3                        [128, 128, 2]                 \n",
            "  5                -1  1    295424  models.common.Conv                      [128, 256, 3, 2]              \n",
            "  6                -1  3    625152  models.common.C3                        [256, 256, 3]                 \n",
            "  7                -1  1   1180672  models.common.Conv                      [256, 512, 3, 2]              \n",
            "  8                -1  1   1182720  models.common.C3                        [512, 512, 1]                 \n",
            "  9                -1  1    656896  models.common.SPPF                      [512, 512, 5]                 \n",
            " 10                -1  1    131584  models.common.Conv                      [512, 256, 1, 1]              \n",
            " 11                -1  1         0  torch.nn.modules.upsampling.Upsample    [None, 2, 'nearest']          \n",
            " 12           [-1, 6]  1         0  models.common.Concat                    [1]                           \n",
            " 13                -1  1    361984  models.common.C3                        [512, 256, 1, False]          \n",
            " 14                -1  1     33024  models.common.Conv                      [256, 128, 1, 1]              \n",
            " 15                -1  1         0  torch.nn.modules.upsampling.Upsample    [None, 2, 'nearest']          \n",
            " 16           [-1, 4]  1         0  models.common.Concat                    [1]                           \n",
            " 17                -1  1     90880  models.common.C3                        [256, 128, 1, False]          \n",
            " 18                -1  1    147712  models.common.Conv                      [128, 128, 3, 2]              \n",
            " 19          [-1, 14]  1         0  models.common.Concat                    [1]                           \n",
            " 20                -1  1    296448  models.common.C3                        [256, 256, 1, False]          \n",
            " 21                -1  1    590336  models.common.Conv                      [256, 256, 3, 2]              \n",
            " 22          [-1, 10]  1         0  models.common.Concat                    [1]                           \n",
            " 23                -1  1   1182720  models.common.C3                        [512, 512, 1, False]          \n",
            " 24      [17, 20, 23]  1     35061  models.yolo.Detect                      [8, [[10, 13, 16, 30, 33, 23], [30, 61, 62, 45, 59, 119], [116, 90, 156, 198, 373, 326]], [128, 256, 512]]\n",
            "YOLOv5s summary: 214 layers, 7041205 parameters, 7041205 gradients, 16.0 GFLOPs\n",
            "\n",
            "Transferred 342/349 items from yolov5s.pt\n",
            "\u001b[34m\u001b[1mAMP: \u001b[0mchecks passed ✅\n",
            "\u001b[34m\u001b[1moptimizer:\u001b[0m SGD(lr=0.01) with parameter groups 57 weight(decay=0.0), 60 weight(decay=0.0005), 60 bias\n",
            "\u001b[34m\u001b[1malbumentations: \u001b[0mBlur(p=0.01, blur_limit=(3, 7)), MedianBlur(p=0.01, blur_limit=(3, 7)), ToGray(p=0.01), CLAHE(p=0.01, clip_limit=(1, 4.0), tile_grid_size=(8, 8))\n",
            "\u001b[34m\u001b[1mtrain: \u001b[0mScanning /content/Dataset/labels/train.cache... 4172 images, 0 backgrounds, 0 corrupt: 100% 4172/4172 [00:00<?, ?it/s]\n",
            "\u001b[34m\u001b[1mval: \u001b[0mScanning /content/Dataset/labels/val.cache... 1046 images, 0 backgrounds, 0 corrupt: 100% 1046/1046 [00:00<?, ?it/s]\n",
            "\n",
            "\u001b[34m\u001b[1mAutoAnchor: \u001b[0m4.01 anchors/target, 1.000 Best Possible Recall (BPR). Current anchors are a good fit to dataset ✅\n",
            "Plotting labels to runs/train/yolov5s_results5/labels.jpg... \n",
            "Image sizes 640 train, 640 val\n",
            "Using 2 dataloader workers\n",
            "Logging results to \u001b[1mruns/train/yolov5s_results5\u001b[0m\n",
            "Starting training for 7 epochs...\n",
            "\n",
            "      Epoch    GPU_mem   box_loss   obj_loss   cls_loss  Instances       Size\n",
            "        0/6      3.58G    0.05622    0.02203    0.05227         29        640: 100% 261/261 [03:08<00:00,  1.39it/s]\n",
            "                 Class     Images  Instances          P          R      mAP50   mAP50-95: 100% 33/33 [00:23<00:00,  1.39it/s]\n",
            "                   all       1046       1046      0.288      0.703      0.372      0.189\n",
            "\n",
            "      Epoch    GPU_mem   box_loss   obj_loss   cls_loss  Instances       Size\n",
            "        1/6      4.66G    0.03747    0.01196    0.03831         23        640: 100% 261/261 [03:02<00:00,  1.43it/s]\n",
            "                 Class     Images  Instances          P          R      mAP50   mAP50-95: 100% 33/33 [00:20<00:00,  1.57it/s]\n",
            "                   all       1046       1046      0.404      0.883      0.653      0.414\n",
            "\n",
            "      Epoch    GPU_mem   box_loss   obj_loss   cls_loss  Instances       Size\n",
            "        2/6      4.66G     0.0328   0.009234    0.02692         22        640: 100% 261/261 [03:01<00:00,  1.44it/s]\n",
            "                 Class     Images  Instances          P          R      mAP50   mAP50-95: 100% 33/33 [00:20<00:00,  1.60it/s]\n",
            "                   all       1046       1046      0.493      0.948       0.67      0.492\n",
            "\n",
            "      Epoch    GPU_mem   box_loss   obj_loss   cls_loss  Instances       Size\n",
            "        3/6      4.66G    0.02647   0.007845    0.02225         26        640: 100% 261/261 [02:59<00:00,  1.45it/s]\n",
            "                 Class     Images  Instances          P          R      mAP50   mAP50-95: 100% 33/33 [00:19<00:00,  1.67it/s]\n",
            "                   all       1046       1046       0.65      0.875      0.773      0.603\n",
            "\n",
            "      Epoch    GPU_mem   box_loss   obj_loss   cls_loss  Instances       Size\n",
            "        4/6      4.66G    0.02291   0.007056    0.01941         21        640: 100% 261/261 [03:00<00:00,  1.45it/s]\n",
            "                 Class     Images  Instances          P          R      mAP50   mAP50-95: 100% 33/33 [00:23<00:00,  1.41it/s]\n",
            "                   all       1046       1046      0.739      0.862      0.831      0.706\n",
            "\n",
            "      Epoch    GPU_mem   box_loss   obj_loss   cls_loss  Instances       Size\n",
            "        5/6      4.66G    0.01876   0.006203    0.01631         33        640: 100% 261/261 [03:01<00:00,  1.44it/s]\n",
            "                 Class     Images  Instances          P          R      mAP50   mAP50-95: 100% 33/33 [00:19<00:00,  1.67it/s]\n",
            "                   all       1046       1046      0.853      0.915      0.917      0.798\n",
            "\n",
            "      Epoch    GPU_mem   box_loss   obj_loss   cls_loss  Instances       Size\n",
            "        6/6      4.66G    0.01474   0.005271    0.01342         24        640: 100% 261/261 [03:00<00:00,  1.44it/s]\n",
            "                 Class     Images  Instances          P          R      mAP50   mAP50-95: 100% 33/33 [00:22<00:00,  1.49it/s]\n",
            "                   all       1046       1046      0.889      0.942      0.956      0.857\n",
            "\n",
            "7 epochs completed in 0.398 hours.\n",
            "Optimizer stripped from runs/train/yolov5s_results5/weights/last.pt, 14.4MB\n",
            "Optimizer stripped from runs/train/yolov5s_results5/weights/best.pt, 14.4MB\n",
            "\n",
            "Validating runs/train/yolov5s_results5/weights/best.pt...\n",
            "Fusing layers... \n",
            "YOLOv5s summary: 157 layers, 7031701 parameters, 0 gradients, 15.8 GFLOPs\n",
            "                 Class     Images  Instances          P          R      mAP50   mAP50-95: 100% 33/33 [00:20<00:00,  1.58it/s]\n",
            "                   all       1046       1046       0.89      0.942      0.956      0.856\n",
            "                    10       1046         88      0.966      0.979       0.99      0.877\n",
            "                    50       1046         88      0.827      0.932      0.955      0.792\n",
            "                   100       1046         88      0.606      0.977      0.933      0.812\n",
            "                   500       1046         88      0.741      0.648      0.788      0.613\n",
            "                  1000       1046        172      0.997          1      0.995      0.927\n",
            "                  5000       1046        174      0.996          1      0.995      0.953\n",
            "                 10000       1046        174      0.995          1      0.995      0.952\n",
            "                 50000       1046        174      0.989          1      0.995      0.925\n",
            "Results saved to \u001b[1mruns/train/yolov5s_results5\u001b[0m\n"
          ]
        }
      ],
      "source": [
        "########################\n",
        "# 이 셀부터 코드 작성하세요\n",
        "########################\n",
        "%cd /content/yolov5/\n",
        "\n",
        "!python train.py --epochs 7 --data /content/Dataset/data.yaml --cfg ./models/yolov5s.yaml --weights yolov5s.pt --name yolov5s_results"
      ]
    },
    {
      "cell_type": "code",
      "source": [],
      "metadata": {
        "id": "Vy1TL2NvOpGr"
      },
      "execution_count": null,
      "outputs": []
    },
    {
      "cell_type": "code",
      "source": [],
      "metadata": {
        "id": "_UhmXlArOpBr"
      },
      "execution_count": null,
      "outputs": []
    },
    {
      "cell_type": "code",
      "source": [],
      "metadata": {
        "id": "1gOXtcuqOo7k"
      },
      "execution_count": null,
      "outputs": []
    },
    {
      "cell_type": "code",
      "source": [],
      "metadata": {
        "id": "SaP3EYCUOo0r"
      },
      "execution_count": null,
      "outputs": []
    },
    {
      "cell_type": "markdown",
      "metadata": {
        "id": "u2YESAa5fc4M"
      },
      "source": [
        "## 4.탐지 : detect.py\n",
        "---\n",
        "- **세부요구사항**\n",
        "    - 학습 과정에서 생성된 가중치 파일을 이용하세요.\n",
        "    - IoU threshold를 0.25 이하로 설정하세요.\n",
        "    - confidence threshold를 0.75 이상으로 설정하세요.\n",
        "---\n",
        "- 여러분이 **직접 촬영한 화폐 사진과 동영상**을 탐지 과정에 이용하여 결과를 확인하세요.\n",
        "    - 조건\n",
        "        1. 화폐의 수를 늘려가며 촬영 해보세요.\n",
        "            - ex) 50원 하나, 50원 둘, 50원 셋, ...\n",
        "        2. 화폐의 종류를 늘려가며 촬영 해보세요.\n",
        "            - ex) 50원 하나와 100원 하나, 50원 하나와 100원 하나와 1000원 하나, ...\n",
        "        3. 사진은 최소 30장 이상, 동영상은 최소 하나 이상 촬영하여 사용 해보세요.\n",
        "---"
      ]
    },
    {
      "cell_type": "code",
      "source": [
        "########################\n",
        "# 이 셀부터 코드 작성하세요\n",
        "########################\n",
        "!python detect.py --source /content/test/c1.jpg --weights /content/yolov5/runs/train/yolov5s_results5/weights/best.pt --iou-thres 0.25 --conf-thres 0.75"
      ],
      "metadata": {
        "id": "9rK0ClfTcjEZ",
        "colab": {
          "base_uri": "https://localhost:8080/"
        },
        "outputId": "e6f7b5e3-0301-4095-be19-38ecf7b9af4e"
      },
      "execution_count": 42,
      "outputs": [
        {
          "output_type": "stream",
          "name": "stdout",
          "text": [
            "\u001b[34m\u001b[1mdetect: \u001b[0mweights=['/content/yolov5/runs/train/yolov5s_results5/weights/best.pt'], source=/content/test/c1.jpg, data=data/coco128.yaml, imgsz=[640, 640], conf_thres=0.75, iou_thres=0.25, max_det=1000, device=, view_img=False, save_txt=False, save_csv=False, save_conf=False, save_crop=False, nosave=False, classes=None, agnostic_nms=False, augment=False, visualize=False, update=False, project=runs/detect, name=exp, exist_ok=False, line_thickness=3, hide_labels=False, hide_conf=False, half=False, dnn=False, vid_stride=1\n",
            "YOLOv5 🚀 v7.0-224-g6262c7f Python-3.10.12 torch-2.0.1+cu118 CUDA:0 (Tesla V100-SXM2-16GB, 16151MiB)\n",
            "\n",
            "Fusing layers... \n",
            "YOLOv5s summary: 157 layers, 7031701 parameters, 0 gradients, 15.8 GFLOPs\n",
            "image 1/1 /content/test/c1.jpg: 480x640 (no detections), 44.5ms\n",
            "Speed: 0.5ms pre-process, 44.5ms inference, 0.4ms NMS per image at shape (1, 3, 640, 640)\n",
            "Results saved to \u001b[1mruns/detect/exp7\u001b[0m\n"
          ]
        }
      ]
    },
    {
      "cell_type": "code",
      "source": [],
      "metadata": {
        "id": "HdeAA5qFf5ic"
      },
      "execution_count": null,
      "outputs": []
    }
  ]
}